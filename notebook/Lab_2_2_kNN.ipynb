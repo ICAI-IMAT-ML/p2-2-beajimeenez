{
 "cells": [
  {
   "cell_type": "markdown",
   "metadata": {},
   "source": [
    "# Laboratory practice 2.2: KNN classification\n",
    "\n",
    "Here we will implement our first ML model based on the _very_ popular KNN algorithm. We will use the preprocessed data from the previous practice, `SimData.dat`. The data should be properly cleaned already, and we should have available the two resulting files `train.dat` and `test.dat` with the training and testing data, respectively. Therefore, we will not need to do the preprocessing here, which is why we will (almost) jump to implementing KNN and applying it to the data."
   ]
  },
  {
   "cell_type": "code",
   "execution_count": 42,
   "metadata": {
    "id": "M2DWzwCyFqNr"
   },
   "outputs": [],
   "source": [
    "# Load the modules you'll need later\n",
    "\n",
    "# Plotting libraries\n",
    "import seaborn as sns\n",
    "import matplotlib.pyplot as plt\n",
    "sns.set_theme()\n",
    "\n",
    "# Data management libraries\n",
    "import numpy as np # linear algebra\n",
    "import pandas as pd # data processing, CSV file I/O (e.g. pd.read_csv)\n",
    "\n",
    "# Add Lab_2_2_kNN.py to the path\n",
    "import sys\n",
    "import os \n",
    "#sys.path.append('../src')\n",
    "\n",
    "# Agregar el directorio \"src\" al path de Python\n",
    "sys.path.append(os.path.abspath(\"../src\"))\n",
    "\n",
    "# Import the functions from the solution\n",
    "#from P2_2_LogReg_KNN_solution import knn, plot_probability_histograms, plot_roc_curve, evaluate_classification_metrics, plot_2Dmodel_predictions, plot_calibration_curve\n",
    "from Lab_2_2_kNN import knn, plot_probability_histograms, plot_roc_curve, evaluate_classification_metrics, plot_2Dmodel_predictions, plot_calibration_curve\n"
   ]
  },
  {
   "cell_type": "markdown",
   "metadata": {
    "id": "jhuWAmScFqNu"
   },
   "source": [
    "## 1. Prepare the Dataset"
   ]
  },
  {
   "cell_type": "markdown",
   "metadata": {
    "id": "DyWEeIfqnbcB"
   },
   "source": [
    "This part of the process you already did in the previous practice! You can reuse everything here. Moreover, if you saved the train/test split into `train.dat` and `test.dat`, you can use them here!"
   ]
  },
  {
   "cell_type": "code",
   "execution_count": 43,
   "metadata": {
    "id": "j-ue2KRNFqNv"
   },
   "outputs": [
    {
     "name": "stdout",
     "output_type": "stream",
     "text": [
      "             X1        X2  Y\n",
      "0    107.378782 -7.389331  1\n",
      "1    319.888683  5.754181  0\n",
      "2     83.377934 -7.290793  1\n",
      "3    373.761896 -8.265290  1\n",
      "4    262.710059 -1.344082  0\n",
      "..          ...       ... ..\n",
      "791  507.168168 -5.347802  1\n",
      "792  151.686186  5.398054  0\n",
      "793  342.131637 -7.288121  1\n",
      "794 -239.198510  2.511377  1\n",
      "795 -208.976868  1.501237  1\n",
      "\n",
      "[796 rows x 3 columns]\n",
      "             X1        X2  Y\n",
      "0   -115.248635  7.353836  0\n",
      "1    560.638654 -5.679244  1\n",
      "2   -114.673045 -1.533353  1\n",
      "3    109.781194 -6.674774  1\n",
      "4    602.339940 -3.111906  1\n",
      "..          ...       ... ..\n",
      "195 -115.659343  7.840985  0\n",
      "196 -272.799511  2.569798  1\n",
      "197   28.044476  8.289244  0\n",
      "198 -208.431752  3.928220  1\n",
      "199  322.348964  6.712620  0\n",
      "\n",
      "[200 rows x 3 columns]\n"
     ]
    }
   ],
   "source": [
    "\n",
    "# Load the train and test data you generated (use the name \"train_df\" and \"test_df\")\n",
    "# TODO\n",
    "# Ruta relativa desde \"notebook\" al directorio raíz\n",
    "test_df = pd.read_csv(\"../test.dat\", delimiter=\"\\t\")  # Ajusta el delimitador si es necesario\n",
    "train_df = pd.read_csv(\"../train.dat\", delimiter=\"\\t\")\n",
    "print(train_df)\n",
    "print(test_df)\n",
    "# Convert output variable to factor\n",
    "# TODO\n",
    "\n",
    "train_df[\"X1\"] = train_df[\"X1\"].astype(float)\n",
    "train_df[\"X2\"] = train_df[\"X2\"].astype(float)\n",
    "test_df[\"X1\"] = test_df[\"X1\"].astype(float)\n",
    "test_df[\"X2\"] = test_df[\"X2\"].astype(float)\n",
    "\n",
    "train_df[\"Y\"] = train_df[\"Y\"].astype(bool)\n",
    "test_df[\"Y\"] = test_df[\"Y\"].astype(bool)\n",
    "\n"
   ]
  },
  {
   "cell_type": "code",
   "execution_count": 44,
   "metadata": {
    "id": "b6F2BtZdFqNx"
   },
   "outputs": [],
   "source": [
    "# Define input and output variables, and store X_train, X_test, y_train and y_test matrices\n",
    "input_vars = ['X1','X2']\n",
    "target_var = 'Y'\n",
    "\n",
    "X_train = train_df[input_vars]\n",
    "y_train = train_df[target_var]\n",
    "X_test = test_df[input_vars]\n",
    "y_test = test_df[target_var]"
   ]
  },
  {
   "cell_type": "markdown",
   "metadata": {
    "id": "uuc81ZpdFqNy"
   },
   "source": [
    "## 2. Training of Machine Learning models"
   ]
  },
  {
   "cell_type": "markdown",
   "metadata": {
    "id": "KocL1hskFqNy"
   },
   "source": [
    "#### Minkowski Distance"
   ]
  },
  {
   "cell_type": "markdown",
   "metadata": {
    "id": "Qb3UpDNzFqNz"
   },
   "source": [
    "<center><img alt=\"minkowski distance\" src=\"data:image/png;base64,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\"/></center>"
   ]
  },
  {
   "cell_type": "markdown",
   "metadata": {
    "id": "a0YN0JfSFqNz"
   },
   "source": [
    "#### k-Nearest Neighbors Model"
   ]
  },
  {
   "cell_type": "markdown",
   "metadata": {
    "id": "GnJOxSfHFqNz"
   },
   "source": [
    "- [K-Nearest Neighbours](https://scikit-learn.org/stable/modules/neighbors.html#classification)\n",
    "- [KNeighborsClassifier](https://scikit-learn.org/stable/modules/generated/sklearn.neighbors.KNeighborsClassifier.html)"
   ]
  },
  {
   "cell_type": "code",
   "execution_count": 45,
   "metadata": {
    "id": "JmB6PazkFqN0"
   },
   "outputs": [
    {
     "name": "stdout",
     "output_type": "stream",
     "text": [
      "kNN model (k=None, p=None)\n"
     ]
    }
   ],
   "source": [
    "# Inputs of the model. Change accordingly to perform feature selection\n",
    "INPUTS_KNN = input_vars\n",
    "\n",
    "# Define hyperparameters of the model\n",
    "k = 31 # Number of nearest neighbors\n",
    "p = 2 # Order of Minkowski distance (what distance is this?)\n",
    "\n",
    "# Create a model object\n",
    "knn_fit = knn()\n",
    "knn_fit.\n",
    "print(knn_fit)"
   ]
  },
  {
   "cell_type": "code",
   "execution_count": 46,
   "metadata": {
    "id": "q0H0q2ZEFqN0"
   },
   "outputs": [
    {
     "name": "stdout",
     "output_type": "stream",
     "text": [
      "kNN Trained\n",
      "kNN model (k=None, p=None)\n"
     ]
    }
   ],
   "source": [
    "# Train model\n",
    "knn_fit.fit(X_train[INPUTS_KNN].values, y_train.values, k=k, p=p)\n",
    "print(\"kNN Trained\")\n",
    "print(knn_fit)"
   ]
  },
  {
   "cell_type": "code",
   "execution_count": 47,
   "metadata": {},
   "outputs": [
    {
     "ename": "TypeError",
     "evalue": "'NoneType' object is not subscriptable",
     "output_type": "error",
     "traceback": [
      "\u001b[1;31m---------------------------------------------------------------------------\u001b[0m",
      "\u001b[1;31mTypeError\u001b[0m                                 Traceback (most recent call last)",
      "Cell \u001b[1;32mIn[47], line 1\u001b[0m\n\u001b[1;32m----> 1\u001b[0m model_predictions \u001b[38;5;241m=\u001b[39m plot_2Dmodel_predictions(X_train[INPUTS_KNN]\u001b[38;5;241m.\u001b[39mvalues, y_train\u001b[38;5;241m.\u001b[39mvalues, knn_fit, \u001b[38;5;241m50\u001b[39m)\n",
      "File \u001b[1;32mc:\\Users\\beatr\\OneDrive\\Escritorio\\2_IMAT\\machine learning\\practica1\\p2-2-beajimeenez\\notebook\\../src\\Lab_2_2_kNN.py:180\u001b[0m, in \u001b[0;36mplot_2Dmodel_predictions\u001b[1;34m(X, y, model, grid_points_n)\u001b[0m\n\u001b[0;32m    178\u001b[0m \u001b[38;5;66;03m# # Predict on mesh grid\u001b[39;00m\n\u001b[0;32m    179\u001b[0m grid \u001b[38;5;241m=\u001b[39m np\u001b[38;5;241m.\u001b[39mc_[xx\u001b[38;5;241m.\u001b[39mravel(), yy\u001b[38;5;241m.\u001b[39mravel()]\n\u001b[1;32m--> 180\u001b[0m probs \u001b[38;5;241m=\u001b[39m model\u001b[38;5;241m.\u001b[39mpredict_proba(grid)[:, \u001b[38;5;241m1\u001b[39m]\u001b[38;5;241m.\u001b[39mreshape(xx\u001b[38;5;241m.\u001b[39mshape)\n\u001b[0;32m    182\u001b[0m \u001b[38;5;66;03m# Use Seaborn for the scatter plot\u001b[39;00m\n\u001b[0;32m    183\u001b[0m sns\u001b[38;5;241m.\u001b[39mscatterplot(x\u001b[38;5;241m=\u001b[39mX[:, \u001b[38;5;241m0\u001b[39m], y\u001b[38;5;241m=\u001b[39mX[:, \u001b[38;5;241m1\u001b[39m], hue\u001b[38;5;241m=\u001b[39my, palette\u001b[38;5;241m=\u001b[39m\u001b[38;5;124m\"\u001b[39m\u001b[38;5;124mSet1\u001b[39m\u001b[38;5;124m\"\u001b[39m, ax\u001b[38;5;241m=\u001b[39max[\u001b[38;5;241m1\u001b[39m])\n",
      "\u001b[1;31mTypeError\u001b[0m: 'NoneType' object is not subscriptable"
     ]
    },
    {
     "data": {
      "image/png": "[encoded data removed]",
      "text/plain": [
       "<Figure size 1200x500 with 2 Axes>"
      ]
     },
     "metadata": {},
     "output_type": "display_data"
    }
   ],
   "source": [
    "model_predictions = plot_2Dmodel_predictions(X_train[INPUTS_KNN].values, y_train.values, knn_fit, 50)"
   ]
  },
  {
   "cell_type": "code",
   "execution_count": 16,
   "metadata": {
    "id": "a-wXpaciFqN1"
   },
   "outputs": [
    {
     "ename": "TypeError",
     "evalue": "'NoneType' object is not iterable",
     "output_type": "error",
     "traceback": [
      "\u001b[1;31m---------------------------------------------------------------------------\u001b[0m",
      "\u001b[1;31mTypeError\u001b[0m                                 Traceback (most recent call last)",
      "Cell \u001b[1;32mIn[16], line 2\u001b[0m\n\u001b[0;32m      1\u001b[0m \u001b[38;5;66;03m# Obtain train performance metrics\u001b[39;00m\n\u001b[1;32m----> 2\u001b[0m evaluate_classification_metrics(y_train, knn_fit\u001b[38;5;241m.\u001b[39mpredict(X_train[INPUTS_KNN]\u001b[38;5;241m.\u001b[39mvalues), \u001b[38;5;124m'\u001b[39m\u001b[38;5;124mYES\u001b[39m\u001b[38;5;124m'\u001b[39m)\n",
      "File \u001b[1;32mc:\\Users\\beatr\\OneDrive\\Escritorio\\2_IMAT\\machine learning\\practica1\\p2-2-beajimeenez\\notebook\\../src\\Lab_2_2_kNN.py:218\u001b[0m, in \u001b[0;36mevaluate_classification_metrics\u001b[1;34m(y_true, y_pred, positive_label)\u001b[0m\n\u001b[0;32m    216\u001b[0m \u001b[38;5;66;03m# Map string labels to 0 or 1\u001b[39;00m\n\u001b[0;32m    217\u001b[0m y_true_mapped \u001b[38;5;241m=\u001b[39m np\u001b[38;5;241m.\u001b[39marray([\u001b[38;5;241m1\u001b[39m \u001b[38;5;28;01mif\u001b[39;00m label \u001b[38;5;241m==\u001b[39m positive_label \u001b[38;5;28;01melse\u001b[39;00m \u001b[38;5;241m0\u001b[39m \u001b[38;5;28;01mfor\u001b[39;00m label \u001b[38;5;129;01min\u001b[39;00m y_true])\n\u001b[1;32m--> 218\u001b[0m y_pred_mapped \u001b[38;5;241m=\u001b[39m np\u001b[38;5;241m.\u001b[39marray([\u001b[38;5;241m1\u001b[39m \u001b[38;5;28;01mif\u001b[39;00m label \u001b[38;5;241m==\u001b[39m positive_label \u001b[38;5;28;01melse\u001b[39;00m \u001b[38;5;241m0\u001b[39m \u001b[38;5;28;01mfor\u001b[39;00m label \u001b[38;5;129;01min\u001b[39;00m y_pred])\n\u001b[0;32m    220\u001b[0m \u001b[38;5;66;03m# Confusion Matrix\u001b[39;00m\n\u001b[0;32m    221\u001b[0m \u001b[38;5;66;03m# TODO\u001b[39;00m\n\u001b[0;32m    222\u001b[0m \n\u001b[1;32m   (...)\u001b[0m\n\u001b[0;32m    235\u001b[0m \u001b[38;5;66;03m# F1 Score\u001b[39;00m\n\u001b[0;32m    236\u001b[0m \u001b[38;5;66;03m# TODO\u001b[39;00m\n\u001b[0;32m    238\u001b[0m \u001b[38;5;28;01mreturn\u001b[39;00m {\n\u001b[0;32m    239\u001b[0m     \u001b[38;5;124m\"\u001b[39m\u001b[38;5;124mConfusion Matrix\u001b[39m\u001b[38;5;124m\"\u001b[39m: [tn, fp, fn, tp],\n\u001b[0;32m    240\u001b[0m     \u001b[38;5;124m\"\u001b[39m\u001b[38;5;124mAccuracy\u001b[39m\u001b[38;5;124m\"\u001b[39m: accuracy,\n\u001b[1;32m   (...)\u001b[0m\n\u001b[0;32m    244\u001b[0m     \u001b[38;5;124m\"\u001b[39m\u001b[38;5;124mF1 Score\u001b[39m\u001b[38;5;124m\"\u001b[39m: f1,\n\u001b[0;32m    245\u001b[0m }\n",
      "\u001b[1;31mTypeError\u001b[0m: 'NoneType' object is not iterable"
     ]
    }
   ],
   "source": [
    "# Obtain train performance metrics\n",
    "evaluate_classification_metrics(y_train, knn_fit.predict(X_train[INPUTS_KNN].values), 'YES')"
   ]
  },
  {
   "cell_type": "code",
   "execution_count": null,
   "metadata": {
    "id": "0dR9t5dTFqN1"
   },
   "outputs": [],
   "source": [
    "# Obtain test performance metrics\n",
    "evaluate_classification_metrics(y_test, knn_fit.predict(X_test[INPUTS_KNN].values),  'YES')"
   ]
  },
  {
   "cell_type": "code",
   "execution_count": 10,
   "metadata": {
    "id": "596SA2Y3hLpg"
   },
   "outputs": [],
   "source": [
    "probs = knn_fit.predict_proba(X_train.values)"
   ]
  },
  {
   "cell_type": "code",
   "execution_count": null,
   "metadata": {},
   "outputs": [],
   "source": [
    "calibration_curve = plot_calibration_curve(y_train.values, probs[:,1], 'YES')"
   ]
  },
  {
   "cell_type": "code",
   "execution_count": null,
   "metadata": {},
   "outputs": [],
   "source": [
    "probability_histograms = plot_probability_histograms(y_train.values, probs[:,1], 'YES')"
   ]
  },
  {
   "cell_type": "code",
   "execution_count": null,
   "metadata": {},
   "outputs": [],
   "source": [
    "roc_curve = plot_roc_curve(y_train.values, probs[:,1], 'YES')"
   ]
  }
 ],
 "metadata": {
  "colab": {
   "provenance": []
  },
  "kernelspec": {
   "display_name": "base",
   "language": "python",
   "name": "python3"
  },
  "language_info": {
   "codemirror_mode": {
    "name": "ipython",
    "version": 3
   },
   "file_extension": ".py",
   "mimetype": "text/x-python",
   "name": "python",
   "nbconvert_exporter": "python",
   "pygments_lexer": "ipython3",
   "version": "3.11.4"
  }
 },
 "nbformat": 4,
 "nbformat_minor": 0
}
